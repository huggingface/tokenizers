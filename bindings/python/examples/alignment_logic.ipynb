{
 "cells": [
  {
   "cell_type": "code",
   "execution_count": 246,
   "metadata": {},
   "outputs": [
    {
     "ename": "ImportError",
     "evalue": "cannot import name 'BertTokenizerFast'",
     "output_type": "error",
     "traceback": [
      "\u001b[0;31m---------------------------------------------------------------------------\u001b[0m",
      "\u001b[0;31mImportError\u001b[0m                               Traceback (most recent call last)",
      "\u001b[0;32m<ipython-input-246-bbf9516cbdae>\u001b[0m in \u001b[0;36m<module>\u001b[0;34m\u001b[0m\n\u001b[0;32m----> 1\u001b[0;31m \u001b[0;32mfrom\u001b[0m \u001b[0mtokenizers\u001b[0m \u001b[0;32mimport\u001b[0m \u001b[0mBertTokenizerFast\u001b[0m\u001b[0;34m\u001b[0m\u001b[0;34m\u001b[0m\u001b[0m\n\u001b[0m",
      "\u001b[0;31mImportError\u001b[0m: cannot import name 'BertTokenizerFast'"
     ]
    }
   ],
   "source": [
    "from tokenizers import BertTokenizerFast"
   ]
  },
  {
   "cell_type": "code",
   "execution_count": 226,
   "metadata": {},
   "outputs": [],
   "source": [
    "tokenizer = BertTokenizerFast.from_pretrained('bert-base-cased')"
   ]
  },
  {
   "cell_type": "code",
   "execution_count": 227,
   "metadata": {},
   "outputs": [],
   "source": [
    "txt = \"ᄀᄀᄀ ᄀ tal is here. Eat my shorts\"\n",
    "x = tokenizer(txt,)\n"
   ]
  },
  {
   "cell_type": "code",
   "execution_count": 151,
   "metadata": {},
   "outputs": [],
   "source": [
    "annos = [(1,2),(5,9)]"
   ]
  },
  {
   "cell_type": "code",
   "execution_count": 228,
   "metadata": {},
   "outputs": [],
   "source": [
    "def make_anno_map(txt,annos):\n",
    "    res= [None]*len(txt)\n",
    "    for anno_ix,a in enumerate(annos):\n",
    "        for i in range(a[0],a[1]):\n",
    "            res[i]=anno_ix\n",
    "    return res"
   ]
  },
  {
   "cell_type": "code",
   "execution_count": 229,
   "metadata": {},
   "outputs": [],
   "source": [
    "def make_word_and_token_map(txt,encoding):\n",
    "    word_map= [None]*len(txt)\n",
    "    token_map = [None]*len(txt)\n",
    "    for token_ix,word_ix in enumerate(x.words()):\n",
    "        token_start,token_end = encoding.token_to_chars(token_ix)\n",
    "        word_start,word_end = encoding.word_to_chars(word_ix) if word_ix else (0,0)\n",
    "        for char_ix in range(token_start,token_end):\n",
    "            token_map[char_ix]=token_ix\n",
    "        for char_ix in range(word_start,word_end):\n",
    "            word_map[char_ix]=word_ix\n",
    "    return word_map,token_map\n",
    "            "
   ]
  },
  {
   "cell_type": "code",
   "execution_count": 230,
   "metadata": {},
   "outputs": [],
   "source": [
    "x.encodings[0].token_to_chars(0)\n",
    "encoding = x.encodings[0]"
   ]
  },
  {
   "cell_type": "code",
   "execution_count": 231,
   "metadata": {},
   "outputs": [],
   "source": [
    "word_map,token_map = make_word_and_token_map(txt,encoding)"
   ]
  },
  {
   "cell_type": "code",
   "execution_count": 232,
   "metadata": {},
   "outputs": [],
   "source": [
    "char_states = [(num,word,token,anno) for num,(word,token,anno) in enumerate(itertools.zip_longest(word_map,token_map,anno_map)) ]"
   ]
  },
  {
   "cell_type": "code",
   "execution_count": 233,
   "metadata": {},
   "outputs": [
    {
     "name": "stdout",
     "output_type": "stream",
     "text": [
      "(None, 1, None)\n",
      "(None, 1, 0)\n",
      "(None, 1, None)\n",
      "(None, None, None)\n",
      "(1, 2, None)\n",
      "(None, None, 1)\n",
      "(2, 3, 1)\n",
      "(2, 4, 1)\n",
      "(None, None, None)\n",
      "(3, 5, None)\n",
      "(None, None, None)\n",
      "(4, 6, None)\n",
      "(5, 7, None)\n",
      "(None, None, None)\n",
      "(6, 8, None)\n",
      "(None, None, None)\n",
      "(7, 9, None)\n",
      "(None, None, None)\n",
      "(8, 10, None)\n"
     ]
    }
   ],
   "source": [
    "import itertools\n",
    "for k,v in itertools.groupby(char_states,key=lambda x:x[1:]):\n",
    "    print(k,)"
   ]
  },
  {
   "cell_type": "code",
   "execution_count": 234,
   "metadata": {},
   "outputs": [
    {
     "data": {
      "text/plain": [
       "[0, 11]"
      ]
     },
     "execution_count": 234,
     "metadata": {},
     "output_type": "execute_result"
    }
   ],
   "source": [
    "special_token_ixs = list(map(lambda x:x[0],filter(lambda x:x[1],enumerate(encoding.special_tokens_mask))))\n",
    "special_token_ix"
   ]
  },
  {
   "cell_type": "code",
   "execution_count": 235,
   "metadata": {},
   "outputs": [
    {
     "data": {
      "text/plain": [
       "(0, 0)"
      ]
     },
     "execution_count": 235,
     "metadata": {},
     "output_type": "execute_result"
    }
   ],
   "source": [
    "encoding.token_to_chars(11)"
   ]
  },
  {
   "cell_type": "code",
   "execution_count": 236,
   "metadata": {},
   "outputs": [
    {
     "name": "stdout",
     "output_type": "stream",
     "text": [
      "(0, 1)\n",
      "(1, 0)\n",
      "(2, 0)\n",
      "(3, 0)\n",
      "(4, 0)\n",
      "(5, 0)\n",
      "(6, 0)\n",
      "(7, 0)\n",
      "(8, 0)\n",
      "(9, 0)\n",
      "(10, 0)\n",
      "(11, 1)\n"
     ]
    }
   ],
   "source": [
    "for i in enumerate(encoding.special_tokens_mask):\n",
    "    print(i)"
   ]
  },
  {
   "cell_type": "code",
   "execution_count": 237,
   "metadata": {},
   "outputs": [
    {
     "data": {
      "text/plain": [
       "[1, 0, 0, 0, 0, 0, 0, 0, 0, 0, 0, 1]"
      ]
     },
     "execution_count": 237,
     "metadata": {},
     "output_type": "execute_result"
    }
   ],
   "source": [
    "for encoding.special_tokens_mask"
   ]
  },
  {
   "cell_type": "code",
   "execution_count": 241,
   "metadata": {},
   "outputs": [
    {
     "data": {
      "text/plain": [
       "[(0, 1), (11, 1)]"
      ]
     },
     "execution_count": 241,
     "metadata": {},
     "output_type": "execute_result"
    }
   ],
   "source": [
    "special_token_ixs = list(map(lambda x:x[0],filter(lambda x:x[1],enumerate(encoding.special_tokens_mask))))\n",
    "special_token_ixs"
   ]
  },
  {
   "cell_type": "code",
   "execution_count": 244,
   "metadata": {},
   "outputs": [],
   "source": [
    "def prepare_groups_with_special_tokens(char_states,encoding):\n",
    "    special_token_ixs = list(map(lambda x:x[0],filter(lambda x:x[1],enumerate(encoding.special_tokens_mask))))\n",
    "    special_token_kvs= [ ((None,ix,None),[(encoding.token_to_chars(ix)[0],None,ix,None)]) for ix in special_token_ixs]\n",
    "    mid =[]\n",
    "    scursor =0\n",
    "    for k,v in itertools.groupby(char_states,key=lambda x:x[1:]):\n",
    "        if scursor < len(special_token_ixs):\n",
    "            k_tok_ix = k[1]\n",
    "            cur_special = special_token_ixs[scursor]\n",
    "            if k_tok_ix is not None and  cur_special <k_tok_ix:\n",
    "                print(scursor,cur_special)\n",
    "                mid.append(((None,cur_special,None),[(None,None,cur_special,None)]))\n",
    "                scursor+=1\n",
    "                \n",
    "        mid.append((k,list(v)))\n",
    "    while scursor < len(special_token_ixs):\n",
    "        cur_special = special_token_ixs[scursor]\n",
    "        mid.append(((None,cur_special,None),[(None,None,cur_special,None)]))\n",
    "        scursor+=1\n",
    "        \n",
    "    \n",
    "    \n",
    "           \n",
    "        \n",
    "    \n",
    "    return mid\n",
    "    "
   ]
  },
  {
   "cell_type": "code",
   "execution_count": 245,
   "metadata": {},
   "outputs": [
    {
     "name": "stdout",
     "output_type": "stream",
     "text": [
      "0 0\n",
      "1\n"
     ]
    },
    {
     "data": {
      "text/plain": [
       "[((None, 0, None), [(None, None, 0, None)]),\n",
       " ((None, 1, None), [(0, None, 1, None)]),\n",
       " ((None, 1, 0), [(1, None, 1, 0)]),\n",
       " ((None, 1, None), [(2, None, 1, None)]),\n",
       " ((None, None, None), [(3, None, None, None)]),\n",
       " ((1, 2, None), [(4, 1, 2, None)]),\n",
       " ((None, None, 1), [(5, None, None, 1)]),\n",
       " ((2, 3, 1), [(6, 2, 3, 1), (7, 2, 3, 1)]),\n",
       " ((2, 4, 1), [(8, 2, 4, 1)]),\n",
       " ((None, None, None), [(9, None, None, None)]),\n",
       " ((3, 5, None), [(10, 3, 5, None), (11, 3, 5, None)]),\n",
       " ((None, None, None), [(12, None, None, None)]),\n",
       " ((4, 6, None),\n",
       "  [(13, 4, 6, None), (14, 4, 6, None), (15, 4, 6, None), (16, 4, 6, None)]),\n",
       " ((5, 7, None), [(17, 5, 7, None)]),\n",
       " ((None, None, None), [(18, None, None, None)]),\n",
       " ((6, 8, None), [(19, 6, 8, None), (20, 6, 8, None), (21, 6, 8, None)]),\n",
       " ((None, None, None), [(22, None, None, None)]),\n",
       " ((7, 9, None), [(23, 7, 9, None), (24, 7, 9, None)]),\n",
       " ((None, None, None), [(25, None, None, None)]),\n",
       " ((8, 10, None),\n",
       "  [(26, 8, 10, None),\n",
       "   (27, 8, 10, None),\n",
       "   (28, 8, 10, None),\n",
       "   (29, 8, 10, None),\n",
       "   (30, 8, 10, None),\n",
       "   (31, 8, 10, None)]),\n",
       " ((None, 11, None), [(None, None, 11, None)])]"
      ]
     },
     "execution_count": 245,
     "metadata": {},
     "output_type": "execute_result"
    }
   ],
   "source": [
    "prepare_groups_with_special_tokens(char_states,encoding)"
   ]
  },
  {
   "cell_type": "code",
   "execution_count": 126,
   "metadata": {},
   "outputs": [
    {
     "data": {
      "text/plain": [
       "[1, 0, 0, 0, 0, 0, 0, 1]"
      ]
     },
     "execution_count": 126,
     "metadata": {},
     "output_type": "execute_result"
    }
   ],
   "source": [
    "x.encodings[0].special_tokens_mask"
   ]
  },
  {
   "cell_type": "code",
   "execution_count": null,
   "metadata": {},
   "outputs": [],
   "source": [
    "def add_zero_width_tokens(keys,values,encoding):\n",
    "    zero_width_tokens_ixs =[]\n",
    "    for token in encoding.tokens\n",
    "    "
   ]
  },
  {
   "cell_type": "code",
   "execution_count": 112,
   "metadata": {},
   "outputs": [
    {
     "data": {
      "text/plain": [
       "[None,\n",
       " 0,\n",
       " None,\n",
       " None,\n",
       " None,\n",
       " 1,\n",
       " 1,\n",
       " 1,\n",
       " 1,\n",
       " None,\n",
       " None,\n",
       " None,\n",
       " None,\n",
       " None,\n",
       " None,\n",
       " None,\n",
       " None]"
      ]
     },
     "execution_count": 112,
     "metadata": {},
     "output_type": "execute_result"
    }
   ],
   "source": [
    "anno_map"
   ]
  },
  {
   "cell_type": "code",
   "execution_count": 98,
   "metadata": {},
   "outputs": [],
   "source": [
    "anno_map = make_anno_map(txt,annos)"
   ]
  },
  {
   "cell_type": "code",
   "execution_count": 99,
   "metadata": {},
   "outputs": [
    {
     "name": "stdout",
     "output_type": "stream",
     "text": [
      "1 [UNK]\n",
      "2 ta\n",
      "2 ##l\n",
      "3 is\n",
      "4 here\n"
     ]
    }
   ],
   "source": [
    "cursor =0 \n",
    "prev_anno = None\n",
    "prev_token = None\n",
    "for token_ix,word_ix in enumerate(x.encodings[0].words):\n",
    "    cur_anno = anno_map[cursor]\n",
    "    if cur_anno !== prev_anno:\n",
    "        close_anno()\n",
    "        open_anno()\n",
    "    if word_ix is None:\n",
    "        # This is a token that does not appear in the text\n",
    "        pass\n",
    "    elif cursor < x.encodings[0].token_to_chars(token_ix)[0]:\n",
    "        ## handle the cursor\n",
    "        print(word_ix,x.encodings[0].tokens[token_ix])\n",
    "    \n",
    "            "
   ]
  },
  {
   "cell_type": "code",
   "execution_count": 71,
   "metadata": {},
   "outputs": [
    {
     "data": {
      "text/plain": [
       "(6, 7)"
      ]
     },
     "execution_count": 71,
     "metadata": {},
     "output_type": "execute_result"
    }
   ],
   "source": [
    "word_tokens_ix"
   ]
  },
  {
   "cell_type": "code",
   "execution_count": 31,
   "metadata": {},
   "outputs": [
    {
     "name": "stdout",
     "output_type": "stream",
     "text": [
      "0 101\n",
      "1 100\n",
      "2 102\n"
     ]
    }
   ],
   "source": [
    "for num in range(len(x.input_ids)):\n",
    "    tok = x.input_ids[num]\n",
    "    print(num,tok)\n",
    "    "
   ]
  },
  {
   "cell_type": "code",
   "execution_count": 253,
   "metadata": {},
   "outputs": [],
   "source": [
    "x=[2000000000]\n",
    "for i in range(1,6):\n",
    "    x.append(x[i-1]*(1.1))"
   ]
  },
  {
   "cell_type": "code",
   "execution_count": 255,
   "metadata": {},
   "outputs": [
    {
     "data": {
      "text/plain": [
       "292820000.0"
      ]
     },
     "execution_count": 255,
     "metadata": {},
     "output_type": "execute_result"
    }
   ],
   "source": [
    "x[4]*0.1"
   ]
  }
 ],
 "metadata": {
  "kernelspec": {
   "display_name": "Python 3",
   "language": "python",
   "name": "python3"
  },
  "language_info": {
   "codemirror_mode": {
    "name": "ipython",
    "version": 3
   },
   "file_extension": ".py",
   "mimetype": "text/x-python",
   "name": "python",
   "nbconvert_exporter": "python",
   "pygments_lexer": "ipython3",
   "version": "3.6.9"
  }
 },
 "nbformat": 4,
 "nbformat_minor": 2
}
